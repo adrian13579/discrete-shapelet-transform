{
 "cells": [
  {
   "cell_type": "markdown",
   "id": "5dc9b90d",
   "metadata": {},
   "source": [
    "# DST-II for 1D-signals"
   ]
  },
  {
   "cell_type": "code",
   "execution_count": null,
   "id": "836cb235",
   "metadata": {
    "tags": []
   },
   "outputs": [],
   "source": [
    "import os\n",
    "import sys\n",
    "module_path = os.path.abspath(os.path.join('..'))\n",
    "if module_path not in sys.path:\n",
    "    sys.path.append(module_path)"
   ]
  },
  {
   "cell_type": "code",
   "execution_count": null,
   "id": "144d1595",
   "metadata": {
    "tags": []
   },
   "outputs": [],
   "source": [
    "import pywt, math\n",
    "from dst import get_q_filter_equations,get_filters, system_function\n",
    "import matplotlib.pyplot as plt\n",
    "import numpy as np\n",
    "from dst import compute_abs_error\n",
    "from dst import build_shapelet\n",
    "import scipy.signal\n",
    "from dst import PatternDetector, S\n",
    "import matplotlib"
   ]
  },
  {
   "cell_type": "markdown",
   "id": "8a76422e-5a6b-4182-8c70-e246b703696e",
   "metadata": {},
   "source": [
    "## Experimentation"
   ]
  },
  {
   "cell_type": "code",
   "execution_count": null,
   "id": "8700a82e",
   "metadata": {
    "tags": []
   },
   "outputs": [],
   "source": [
    "pattern = np.array([0.20, 0.50, 0.45, 0.85, 0.80, -0.75, 0.25, 0.20, 0.55])\n",
    "matplotlib.pyplot.figure(dpi=600)\n",
    "plt.plot(np.arange(0, len(pattern), 1), pattern)\n",
    "print(len(pattern))\n",
    "plt.show() "
   ]
  },
  {
   "cell_type": "code",
   "execution_count": null,
   "id": "66d54f0c-4ec9-4ea3-9427-a96d8ce89db6",
   "metadata": {},
   "outputs": [],
   "source": [
    "pattern_detector = PatternDetector(pattern)\n",
    "pattern_detector.build_shapelet('lm', verbose=True)"
   ]
  },
  {
   "cell_type": "code",
   "execution_count": null,
   "id": "762a3698",
   "metadata": {},
   "outputs": [],
   "source": [
    "def signal(x, pattern, pattern_start):\n",
    "    pattern_end = pattern_start + len(pattern) - 1\n",
    "    if 0 <= x <= pattern_start - 1:\n",
    "        return math.cos((math.pi*27*x)/8)*math.sin((math.pi*75*x)/8) \n",
    "    elif pattern_start <= x <= pattern_end:\n",
    "        return pattern[int(x) - pattern_start] \n",
    "    elif pattern_end + 1 <= x <= 63:\n",
    "        return math.cos((math.pi*295*x)/32)*math.sin((math.pi*105*x)/32) \n",
    "\n",
    "    \n",
    "# change the position of the pattern to experiment\n",
    "pattern_start_position = 41\n",
    "\n",
    "x = np.arange(0, 64, 1)\n",
    "y = [signal(i, pattern, pattern_start_position) for i in x]\n",
    "\n",
    "matplotlib.pyplot.figure(dpi=600)\n",
    "plt.plot(x, y)\n",
    "plt.show()"
   ]
  },
  {
   "cell_type": "markdown",
   "id": "0fefd560-9cff-4db7-b5a9-4ada4c2acf90",
   "metadata": {},
   "source": [
    "## $S$ function heuristics"
   ]
  },
  {
   "cell_type": "code",
   "execution_count": null,
   "id": "dd3e80d7",
   "metadata": {
    "scrolled": true
   },
   "outputs": [],
   "source": [
    "(cA, cD) = pywt.dwt(y, pattern_detector.shapelet,mode='per')\n",
    "\n",
    "alpha = 0.1\n",
    "s = S(cD)\n",
    "x = np.arange(0,len(cD))\n",
    "matplotlib.pyplot.figure(dpi=600)\n",
    "plt.plot(x, cD, 'peru')\n",
    "plt.plot(x, s, 'b-')\n",
    "\n",
    "x_max = np.argmax(s)\n",
    "s_max = s[x_max]\n",
    "\n",
    "#print(x_max)\n",
    "\n",
    "matplotlib.pyplot.figure(dpi=600)\n",
    "#plt.plot(x, cD, 'peru')\n",
    "#plt.plot(x, s, 'b-')\n",
    "#plt.plot(x_max, s_max, 'go')\n",
    "#plt.show()\n",
    "#print(s_max)"
   ]
  }
 ],
 "metadata": {
  "kernelspec": {
   "display_name": "Python 3 (ipykernel)",
   "language": "python",
   "name": "python3"
  },
  "language_info": {
   "codemirror_mode": {
    "name": "ipython",
    "version": 3
   },
   "file_extension": ".py",
   "mimetype": "text/x-python",
   "name": "python",
   "nbconvert_exporter": "python",
   "pygments_lexer": "ipython3",
   "version": "3.10.6"
  },
  "widgets": {
   "application/vnd.jupyter.widget-state+json": {
    "state": {},
    "version_major": 2,
    "version_minor": 0
   }
  }
 },
 "nbformat": 4,
 "nbformat_minor": 5
}
